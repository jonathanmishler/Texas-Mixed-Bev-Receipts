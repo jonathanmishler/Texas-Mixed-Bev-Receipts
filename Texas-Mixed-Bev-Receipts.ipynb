{
    "cells": [
        {
            "cell_type": "code",
            "execution_count": 1,
            "source": [
                "import sys\n",
                "import json\n",
                "from sqlmodel import SQLModel\n",
                "import db\n",
                "from tx_data import Receipts"
            ],
            "outputs": [],
            "metadata": {}
        },
        {
            "cell_type": "code",
            "execution_count": 2,
            "source": [
                "print(SQLModel.metadata.create_all(db.engine))"
            ],
            "outputs": [
                {
                    "output_type": "stream",
                    "name": "stdout",
                    "text": [
                        "2021-09-03 12:56:02,970 INFO sqlalchemy.engine.Engine select version()\n",
                        "2021-09-03 12:56:02,971 INFO sqlalchemy.engine.Engine [raw sql] {}\n",
                        "2021-09-03 12:56:02,978 INFO sqlalchemy.engine.Engine select current_schema()\n",
                        "2021-09-03 12:56:02,979 INFO sqlalchemy.engine.Engine [raw sql] {}\n",
                        "2021-09-03 12:56:02,982 INFO sqlalchemy.engine.Engine show standard_conforming_strings\n",
                        "2021-09-03 12:56:02,984 INFO sqlalchemy.engine.Engine [raw sql] {}\n",
                        "2021-09-03 12:56:02,989 INFO sqlalchemy.engine.Engine BEGIN (implicit)\n",
                        "2021-09-03 12:56:02,991 INFO sqlalchemy.engine.Engine select relname from pg_class c join pg_namespace n on n.oid=c.relnamespace where pg_catalog.pg_table_is_visible(c.oid) and relname=%(name)s\n",
                        "2021-09-03 12:56:02,993 INFO sqlalchemy.engine.Engine [generated in 0.00210s] {'name': 'receipt'}\n",
                        "2021-09-03 12:56:03,003 INFO sqlalchemy.engine.Engine \n",
                        "CREATE TABLE receipt (\n",
                        "\treceipt_id SERIAL, \n",
                        "\ttaxpayer_number VARCHAR(15), \n",
                        "\ttaxpayer_name VARCHAR(100), \n",
                        "\ttaxpayer_address VARCHAR(100), \n",
                        "\ttaxpayer_city VARCHAR(30), \n",
                        "\ttaxpayer_state VARCHAR(2), \n",
                        "\ttaxpayer_zip VARCHAR(5), \n",
                        "\ttaxpayer_county VARCHAR(3), \n",
                        "\tlocation_number VARCHAR(15), \n",
                        "\tlocation_name VARCHAR(100), \n",
                        "\tlocation_address VARCHAR(100), \n",
                        "\tlocation_city VARCHAR(30), \n",
                        "\tlocation_state VARCHAR(2), \n",
                        "\tlocation_zip VARCHAR(5), \n",
                        "\tlocation_county VARCHAR(3), \n",
                        "\tinside_city_limits BOOLEAN, \n",
                        "\ttabc_permit_number VARCHAR(10), \n",
                        "\tresponsibility_begin TIMESTAMP WITHOUT TIME ZONE, \n",
                        "\tresponsibility_end TIMESTAMP WITHOUT TIME ZONE, \n",
                        "\tobligation_end TIMESTAMP WITHOUT TIME ZONE, \n",
                        "\tliquor_receipts INTEGER, \n",
                        "\twine_receipts INTEGER, \n",
                        "\tbeer_receipts INTEGER, \n",
                        "\tcover_charge_receipts INTEGER, \n",
                        "\ttotal_receipts INTEGER, \n",
                        "\tPRIMARY KEY (receipt_id)\n",
                        ")\n",
                        "\n",
                        "\n",
                        "2021-09-03 12:56:03,006 INFO sqlalchemy.engine.Engine [no key 0.00326s] {}\n",
                        "2021-09-03 12:56:03,095 INFO sqlalchemy.engine.Engine CREATE INDEX ix_receipt_taxpayer_name ON receipt (taxpayer_name)\n",
                        "2021-09-03 12:56:03,096 INFO sqlalchemy.engine.Engine [no key 0.00169s] {}\n",
                        "2021-09-03 12:56:03,143 INFO sqlalchemy.engine.Engine CREATE INDEX ix_receipt_taxpayer_zip ON receipt (taxpayer_zip)\n",
                        "2021-09-03 12:56:03,145 INFO sqlalchemy.engine.Engine [no key 0.00121s] {}\n",
                        "2021-09-03 12:56:03,156 INFO sqlalchemy.engine.Engine CREATE INDEX ix_receipt_taxpayer_county ON receipt (taxpayer_county)\n",
                        "2021-09-03 12:56:03,157 INFO sqlalchemy.engine.Engine [no key 0.00085s] {}\n",
                        "2021-09-03 12:56:03,166 INFO sqlalchemy.engine.Engine CREATE INDEX ix_receipt_taxpayer_address ON receipt (taxpayer_address)\n",
                        "2021-09-03 12:56:03,167 INFO sqlalchemy.engine.Engine [no key 0.00136s] {}\n",
                        "2021-09-03 12:56:03,187 INFO sqlalchemy.engine.Engine CREATE INDEX ix_receipt_taxpayer_city ON receipt (taxpayer_city)\n",
                        "2021-09-03 12:56:03,189 INFO sqlalchemy.engine.Engine [no key 0.00107s] {}\n",
                        "2021-09-03 12:56:03,198 INFO sqlalchemy.engine.Engine CREATE INDEX ix_receipt_taxpayer_state ON receipt (taxpayer_state)\n",
                        "2021-09-03 12:56:03,199 INFO sqlalchemy.engine.Engine [no key 0.00106s] {}\n",
                        "2021-09-03 12:56:03,211 INFO sqlalchemy.engine.Engine CREATE INDEX ix_receipt_location_address ON receipt (location_address)\n",
                        "2021-09-03 12:56:03,212 INFO sqlalchemy.engine.Engine [no key 0.00131s] {}\n",
                        "2021-09-03 12:56:03,224 INFO sqlalchemy.engine.Engine CREATE INDEX ix_receipt_location_city ON receipt (location_city)\n",
                        "2021-09-03 12:56:03,225 INFO sqlalchemy.engine.Engine [no key 0.00180s] {}\n",
                        "2021-09-03 12:56:03,238 INFO sqlalchemy.engine.Engine CREATE INDEX ix_receipt_location_number ON receipt (location_number)\n",
                        "2021-09-03 12:56:03,240 INFO sqlalchemy.engine.Engine [no key 0.00192s] {}\n",
                        "2021-09-03 12:56:03,250 INFO sqlalchemy.engine.Engine CREATE INDEX ix_receipt_location_state ON receipt (location_state)\n",
                        "2021-09-03 12:56:03,252 INFO sqlalchemy.engine.Engine [no key 0.00220s] {}\n",
                        "2021-09-03 12:56:03,265 INFO sqlalchemy.engine.Engine CREATE INDEX ix_receipt_location_zip ON receipt (location_zip)\n",
                        "2021-09-03 12:56:03,266 INFO sqlalchemy.engine.Engine [no key 0.00118s] {}\n",
                        "2021-09-03 12:56:03,279 INFO sqlalchemy.engine.Engine CREATE INDEX ix_receipt_location_county ON receipt (location_county)\n",
                        "2021-09-03 12:56:03,281 INFO sqlalchemy.engine.Engine [no key 0.00127s] {}\n",
                        "2021-09-03 12:56:03,324 INFO sqlalchemy.engine.Engine CREATE INDEX ix_receipt_inside_city_limits ON receipt (inside_city_limits)\n",
                        "2021-09-03 12:56:03,326 INFO sqlalchemy.engine.Engine [no key 0.00191s] {}\n",
                        "2021-09-03 12:56:03,346 INFO sqlalchemy.engine.Engine CREATE INDEX ix_receipt_responsibility_end ON receipt (responsibility_end)\n",
                        "2021-09-03 12:56:03,347 INFO sqlalchemy.engine.Engine [no key 0.00153s] {}\n",
                        "2021-09-03 12:56:03,365 INFO sqlalchemy.engine.Engine CREATE INDEX ix_receipt_obligation_end ON receipt (obligation_end)\n",
                        "2021-09-03 12:56:03,367 INFO sqlalchemy.engine.Engine [no key 0.00198s] {}\n",
                        "2021-09-03 12:56:03,377 INFO sqlalchemy.engine.Engine CREATE INDEX ix_receipt_location_name ON receipt (location_name)\n",
                        "2021-09-03 12:56:03,379 INFO sqlalchemy.engine.Engine [no key 0.00167s] {}\n",
                        "2021-09-03 12:56:03,388 INFO sqlalchemy.engine.Engine CREATE INDEX ix_receipt_liquor_receipts ON receipt (liquor_receipts)\n",
                        "2021-09-03 12:56:03,389 INFO sqlalchemy.engine.Engine [no key 0.00101s] {}\n",
                        "2021-09-03 12:56:03,398 INFO sqlalchemy.engine.Engine CREATE INDEX ix_receipt_wine_receipts ON receipt (wine_receipts)\n",
                        "2021-09-03 12:56:03,400 INFO sqlalchemy.engine.Engine [no key 0.00179s] {}\n",
                        "2021-09-03 12:56:03,408 INFO sqlalchemy.engine.Engine CREATE INDEX ix_receipt_tabc_permit_number ON receipt (tabc_permit_number)\n",
                        "2021-09-03 12:56:03,409 INFO sqlalchemy.engine.Engine [no key 0.00095s] {}\n",
                        "2021-09-03 12:56:03,421 INFO sqlalchemy.engine.Engine CREATE INDEX ix_receipt_responsibility_begin ON receipt (responsibility_begin)\n",
                        "2021-09-03 12:56:03,423 INFO sqlalchemy.engine.Engine [no key 0.00236s] {}\n",
                        "2021-09-03 12:56:03,442 INFO sqlalchemy.engine.Engine CREATE INDEX ix_receipt_beer_receipts ON receipt (beer_receipts)\n",
                        "2021-09-03 12:56:03,444 INFO sqlalchemy.engine.Engine [no key 0.00245s] {}\n",
                        "2021-09-03 12:56:03,460 INFO sqlalchemy.engine.Engine CREATE INDEX ix_receipt_cover_charge_receipts ON receipt (cover_charge_receipts)\n",
                        "2021-09-03 12:56:03,461 INFO sqlalchemy.engine.Engine [no key 0.00141s] {}\n",
                        "2021-09-03 12:56:03,476 INFO sqlalchemy.engine.Engine CREATE INDEX ix_receipt_total_receipts ON receipt (total_receipts)\n",
                        "2021-09-03 12:56:03,477 INFO sqlalchemy.engine.Engine [no key 0.00121s] {}\n",
                        "2021-09-03 12:56:03,489 INFO sqlalchemy.engine.Engine CREATE INDEX ix_receipt_receipt_id ON receipt (receipt_id)\n",
                        "2021-09-03 12:56:03,490 INFO sqlalchemy.engine.Engine [no key 0.00097s] {}\n",
                        "2021-09-03 12:56:03,500 INFO sqlalchemy.engine.Engine CREATE INDEX ix_receipt_taxpayer_number ON receipt (taxpayer_number)\n",
                        "2021-09-03 12:56:03,501 INFO sqlalchemy.engine.Engine [no key 0.00138s] {}\n",
                        "2021-09-03 12:56:03,512 INFO sqlalchemy.engine.Engine COMMIT\n",
                        "None\n"
                    ]
                }
            ],
            "metadata": {}
        },
        {
            "cell_type": "code",
            "execution_count": 9,
            "source": [
                "Receipt"
            ],
            "outputs": [
                {
                    "output_type": "execute_result",
                    "data": {
                        "text/plain": [
                            "db.models.Receipt"
                        ]
                    },
                    "metadata": {},
                    "execution_count": 9
                }
            ],
            "metadata": {}
        },
        {
            "cell_type": "code",
            "execution_count": 2,
            "source": [
                "api = Receipts()"
            ],
            "outputs": [],
            "metadata": {}
        },
        {
            "cell_type": "code",
            "execution_count": 3,
            "source": [
                "r = api.get()"
            ],
            "outputs": [],
            "metadata": {}
        },
        {
            "cell_type": "code",
            "execution_count": 4,
            "source": [
                "data = r.data.decode('utf-8')"
            ],
            "outputs": [],
            "metadata": {}
        },
        {
            "cell_type": "code",
            "execution_count": 5,
            "source": [
                "sys.getsizeof(data)/1000000"
            ],
            "outputs": [
                {
                    "output_type": "execute_result",
                    "data": {
                        "text/plain": [
                            "77.030293"
                        ]
                    },
                    "metadata": {},
                    "execution_count": 5
                }
            ],
            "metadata": {}
        },
        {
            "cell_type": "code",
            "execution_count": 6,
            "source": [
                "data = json.loads(data)"
            ],
            "outputs": [],
            "metadata": {}
        },
        {
            "cell_type": "code",
            "execution_count": 7,
            "source": [
                "sys.getsizeof(data)/1000000"
            ],
            "outputs": [
                {
                    "output_type": "execute_result",
                    "data": {
                        "text/plain": [
                            "0.824456"
                        ]
                    },
                    "metadata": {},
                    "execution_count": 7
                }
            ],
            "metadata": {}
        },
        {
            "cell_type": "code",
            "execution_count": 8,
            "source": [
                "records = [Receipt(**x) for x in data]"
            ],
            "outputs": [],
            "metadata": {}
        },
        {
            "cell_type": "code",
            "execution_count": 9,
            "source": [
                "sys.getsizeof(records)/1000000"
            ],
            "outputs": [
                {
                    "output_type": "execute_result",
                    "data": {
                        "text/plain": [
                            "0.824456"
                        ]
                    },
                    "metadata": {},
                    "execution_count": 9
                }
            ],
            "metadata": {}
        },
        {
            "cell_type": "code",
            "execution_count": 13,
            "source": [
                "SQLModel.metadata"
            ],
            "outputs": [
                {
                    "output_type": "execute_result",
                    "data": {
                        "text/plain": [
                            "{}"
                        ]
                    },
                    "metadata": {},
                    "execution_count": 13
                }
            ],
            "metadata": {}
        },
        {
            "cell_type": "code",
            "execution_count": 7,
            "source": [
                "schema = Receipt.schema(by_alias=False)\n",
                "tbl_name = schema.get('db_table_name')\n",
                "cols = schema.get('properties')"
            ],
            "outputs": [],
            "metadata": {}
        },
        {
            "cell_type": "code",
            "execution_count": 41,
            "source": [
                "def sql_col_def(name, props) -> str:\n",
                "    col_type = props.get('type')\n",
                "    if col_type == 'string':\n",
                "        if props.get('format') == 'date-time':\n",
                "            col_def = f\"{name} TIMESTAMP\"\n",
                "        elif props.get('maxLength') is not None:\n",
                "            col_def = f\"{name} VARCHAR({props.get('maxLength')})\"\n",
                "        else:\n",
                "            col_def = f\"{name} VARCHAR(250)\"\n",
                "    elif col_type == 'integer':\n",
                "        col_def = f\"{name} INTEGER\"\n",
                "    \n",
                "    elif col_type == 'boolean':\n",
                "        col_def = f\"{name} BOOLEAN\"\n",
                "    return col_def\n",
                "    \n",
                "sql_columns = \",\".join([sql_col_def(*item) for item in cols.items()])\n",
                "sql_table = f\"CREATE TABLE IF NOT EXISTS {tbl_name}({tbl_name}_id SERIAL PRIMARY KEY,{sql_columns})\""
            ],
            "outputs": [
                {
                    "output_type": "stream",
                    "name": "stdout",
                    "text": [
                        "CREATE TABLE IF NOT EXISTS bev_receipts(bev_receipts_id SERIAL PRIMARY KEY,taxpayer_number VARCHAR(15),taxpayer_name VARCHAR(100),taxpayer_address VARCHAR(100),taxpayer_city VARCHAR(20),taxpayer_state VARCHAR(2),taxpayer_zip VARCHAR(5),taxpayer_county VARCHAR(3),location_number VARCHAR(15),location_name VARCHAR(100),location_address VARCHAR(100),location_city VARCHAR(20),location_state VARCHAR(2),location_zip VARCHAR(5),location_county VARCHAR(3),inside_city_limits BOOLEAN,tabc_permit_number VARCHAR(10),responsibility_begin TIMESTAMP,responsibility_end TIMESTAMP,obligation_end TIMESTAMP,liquor_receipts INTEGER,wine_receipts INTEGER,beer_receipts INTEGER,cover_charge_receipts INTEGER,total_receipts INTEGER)\n"
                    ]
                }
            ],
            "metadata": {}
        },
        {
            "cell_type": "code",
            "execution_count": 10,
            "source": [
                "create_table = \"\"\" CREATE TABLE IF NOT EXISTS bev_receipts(\n",
                "    bev_receipts_id SERIAL PRIMARY KEY,\n",
                "    taxpayer_number VARCHAR(15),\n",
                "    taxpayer_name VARCHAR(100),\n",
                "    taxpayer_address VARCHAR(100),\n",
                "    taxpayer_city VARCHAR(20),\n",
                "    taxpayer_state VARCHAR(2),\n",
                "    taxpayer_zip VARCHAR(5),\n",
                "    taxpayer_county VARCHAR(3),\n",
                "    location_number VARCHAR(15),\n",
                "    location_name VARCHAR(100),\n",
                "    location_address VARCHAR(100),\n",
                "    location_city VARCHAR(20),\n",
                "    location_state VARCHAR(2),\n",
                "    location_zip VARCHAR(5),\n",
                "    location_county VARCHAR(3),\n",
                "    inside_outside_city_limits VARCHAR(1),\n",
                "    tabc_permit_number VARCHAR(10),\n",
                "    responsibility_begin_date TIMESTAMP,\n",
                "    responsibility_end_date TIMESTAMP,\n",
                "    obligation_end_date TIMESTAMP,\n",
                "    liquor_receipts INTEGER,\n",
                "    wine_receipts INTEGER,\n",
                "    beer_receipts INTEGER,\n",
                "    cover_charge_receipts INTEGER,\n",
                "    total_receipts INTEGER\n",
                ")  \"\"\"\n",
                "conn = psycopg2.connect(DB_CONNECT)\n",
                "cursor = conn.cursor()\n",
                "cursor.execute(create_table)\n",
                "conn.commit()\n",
                "cursor.close()"
            ],
            "outputs": [],
            "metadata": {}
        },
        {
            "cell_type": "code",
            "execution_count": 11,
            "source": [
                "table_cols = ('taxpayer_number',\n",
                " 'taxpayer_name',\n",
                " 'taxpayer_address',\n",
                " 'taxpayer_city',\n",
                " 'taxpayer_state',\n",
                " 'taxpayer_zip',\n",
                " 'taxpayer_county',\n",
                " 'location_number',\n",
                " 'location_name',\n",
                " 'location_address',\n",
                " 'location_city',\n",
                " 'location_state',\n",
                " 'location_zip',\n",
                " 'location_county',\n",
                " 'inside_outside_city_limits',\n",
                " 'tabc_permit_number',\n",
                " 'responsibility_begin_date',\n",
                " 'responsibility_end_date',\n",
                " 'obligation_end_date',\n",
                " 'liquor_receipts',\n",
                " 'wine_receipts',\n",
                " 'beer_receipts',\n",
                " 'cover_charge_receipts',\n",
                " 'total_receipts')"
            ],
            "outputs": [],
            "metadata": {}
        },
        {
            "cell_type": "code",
            "execution_count": 12,
            "source": [
                "conn = psycopg2.connect(DB_CONNECT)\n",
                "mgr = CopyManager(conn, 'bev_receipt', table_cols)\n",
                "mgr.copy([tuple(record.dict().values()) for record in records])\n",
                "conn.commit()"
            ],
            "outputs": [],
            "metadata": {}
        },
        {
            "cell_type": "code",
            "execution_count": 55,
            "source": [
                "tuple(x.dict().values())"
            ],
            "outputs": [
                {
                    "output_type": "execute_result",
                    "data": {
                        "text/plain": [
                            "('17509743203',\n",
                            " 'FIREBIRD DOWNTOWN, INC.',\n",
                            " '1845 WOODALL RODGERS FWY STE 1100',\n",
                            " 'DALLAS',\n",
                            " 'TX',\n",
                            " '75201',\n",
                            " '57',\n",
                            " '1',\n",
                            " 'EL FENIX RESTAURANT',\n",
                            " '1601 MCKINNEY AVE',\n",
                            " 'DALLAS',\n",
                            " 'TX',\n",
                            " '75202',\n",
                            " '57',\n",
                            " 'Y',\n",
                            " 'MB061420',\n",
                            " datetime.datetime(1993, 12, 1, 0, 0),\n",
                            " None,\n",
                            " datetime.datetime(2007, 1, 31, 0, 0),\n",
                            " 31065,\n",
                            " 1261,\n",
                            " 11020,\n",
                            " 0,\n",
                            " 43346)"
                        ]
                    },
                    "metadata": {},
                    "execution_count": 55
                }
            ],
            "metadata": {}
        },
        {
            "cell_type": "code",
            "execution_count": 26,
            "source": [
                "Receipt."
            ],
            "outputs": [
                {
                    "output_type": "execute_result",
                    "data": {
                        "text/plain": [
                            "<cyfunction BaseModel.dict at 0x7fa62e154380>"
                        ]
                    },
                    "metadata": {},
                    "execution_count": 26
                }
            ],
            "metadata": {}
        },
        {
            "cell_type": "code",
            "execution_count": null,
            "source": [],
            "outputs": [],
            "metadata": {}
        }
    ],
    "metadata": {
        "orig_nbformat": 4,
        "language_info": {
            "name": "python",
            "version": "3.8.10",
            "mimetype": "text/x-python",
            "codemirror_mode": {
                "name": "ipython",
                "version": 3
            },
            "pygments_lexer": "ipython3",
            "nbconvert_exporter": "python",
            "file_extension": ".py"
        },
        "kernelspec": {
            "name": "python3",
            "display_name": "Python 3.8.10 64-bit ('.venv': venv)"
        },
        "interpreter": {
            "hash": "dcd12adb2241a514ef48beca210e55180f27480c0bccc5cfcf5d63fbabfedc75"
        }
    },
    "nbformat": 4,
    "nbformat_minor": 2
}