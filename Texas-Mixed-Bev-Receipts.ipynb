{
    "cells": [
        {
            "cell_type": "code",
            "execution_count": 1,
            "source": [
                "import sys\n",
                "import json\n",
                "import psycopg2\n",
                "import db\n",
                "from pgcopy import CopyManager\n",
                "from model import Receipt\n",
                "from config import Settings\n",
                "from api import Api"
            ],
            "outputs": [],
            "metadata": {}
        },
        {
            "cell_type": "code",
            "execution_count": 2,
            "source": [
                "api = Api()"
            ],
            "outputs": [],
            "metadata": {}
        },
        {
            "cell_type": "code",
            "execution_count": 3,
            "source": [
                "r = api.get()"
            ],
            "outputs": [],
            "metadata": {}
        },
        {
            "cell_type": "code",
            "execution_count": 8,
            "metadata": {},
            "outputs": [],
            "source": [
                "data = r.data.decode('utf-8')"
            ]
        },
        {
            "cell_type": "code",
            "execution_count": 9,
            "metadata": {},
            "outputs": [
                {
                    "output_type": "execute_result",
                    "data": {
                        "text/plain": [
                            "77.018335"
                        ]
                    },
                    "metadata": {},
                    "execution_count": 9
                }
            ],
            "source": [
                "sys.getsizeof(data)/1000000"
            ]
        },
        {
            "cell_type": "code",
            "execution_count": 10,
            "metadata": {},
            "outputs": [],
            "source": [
                "data = json.loads(data)"
            ]
        },
        {
            "cell_type": "code",
            "execution_count": 11,
            "source": [
                "sys.getsizeof(data)/1000000"
            ],
            "outputs": [
                {
                    "output_type": "execute_result",
                    "data": {
                        "text/plain": [
                            "0.824456"
                        ]
                    },
                    "metadata": {},
                    "execution_count": 11
                }
            ],
            "metadata": {}
        },
        {
            "cell_type": "code",
            "execution_count": 12,
            "source": [
                "records = [Receipt(**x) for x in data]"
            ],
            "outputs": [],
            "metadata": {}
        },
        {
            "cell_type": "code",
            "execution_count": 13,
            "source": [
                "sys.getsizeof(records)/1000000"
            ],
            "outputs": [
                {
                    "output_type": "execute_result",
                    "data": {
                        "text/plain": [
                            "0.824456"
                        ]
                    },
                    "metadata": {},
                    "execution_count": 13
                }
            ],
            "metadata": {}
        },
        {
            "cell_type": "code",
            "execution_count": 7,
            "source": [
                "schema = Receipt.schema(by_alias=False)\n",
                "tbl_name = schema.get('db_table_name')\n",
                "cols = schema.get('properties')"
            ],
            "outputs": [],
            "metadata": {}
        },
        {
            "cell_type": "code",
            "execution_count": 41,
            "metadata": {},
            "outputs": [
                {
                    "output_type": "stream",
                    "name": "stdout",
                    "text": [
                        "CREATE TABLE IF NOT EXISTS bev_receipts(bev_receipts_id SERIAL PRIMARY KEY,taxpayer_number VARCHAR(15),taxpayer_name VARCHAR(100),taxpayer_address VARCHAR(100),taxpayer_city VARCHAR(20),taxpayer_state VARCHAR(2),taxpayer_zip VARCHAR(5),taxpayer_county VARCHAR(3),location_number VARCHAR(15),location_name VARCHAR(100),location_address VARCHAR(100),location_city VARCHAR(20),location_state VARCHAR(2),location_zip VARCHAR(5),location_county VARCHAR(3),inside_city_limits BOOLEAN,tabc_permit_number VARCHAR(10),responsibility_begin TIMESTAMP,responsibility_end TIMESTAMP,obligation_end TIMESTAMP,liquor_receipts INTEGER,wine_receipts INTEGER,beer_receipts INTEGER,cover_charge_receipts INTEGER,total_receipts INTEGER)\n"
                    ]
                }
            ],
            "source": [
                "def sql_col_def(name, props) -> str:\n",
                "    col_type = props.get('type')\n",
                "    if col_type == 'string':\n",
                "        if props.get('format') == 'date-time':\n",
                "            col_def = f\"{name} TIMESTAMP\"\n",
                "        elif props.get('maxLength') is not None:\n",
                "            col_def = f\"{name} VARCHAR({props.get('maxLength')})\"\n",
                "        else:\n",
                "            col_def = f\"{name} VARCHAR(250)\"\n",
                "    elif col_type == 'integer':\n",
                "        col_def = f\"{name} INTEGER\"\n",
                "    \n",
                "    elif col_type == 'boolean':\n",
                "        col_def = f\"{name} BOOLEAN\"\n",
                "    return col_def\n",
                "    \n",
                "sql_columns = \",\".join([sql_col_def(*item) for item in cols.items()])\n",
                "sql_table = f\"CREATE TABLE IF NOT EXISTS {tbl_name}({tbl_name}_id SERIAL PRIMARY KEY,{sql_columns})\""
            ]
        },
        {
            "cell_type": "code",
            "execution_count": 10,
            "source": [
                "create_table = \"\"\" CREATE TABLE IF NOT EXISTS bev_receipts(\n",
                "    bev_receipts_id SERIAL PRIMARY KEY,\n",
                "    taxpayer_number VARCHAR(15),\n",
                "    taxpayer_name VARCHAR(100),\n",
                "    taxpayer_address VARCHAR(100),\n",
                "    taxpayer_city VARCHAR(20),\n",
                "    taxpayer_state VARCHAR(2),\n",
                "    taxpayer_zip VARCHAR(5),\n",
                "    taxpayer_county VARCHAR(3),\n",
                "    location_number VARCHAR(15),\n",
                "    location_name VARCHAR(100),\n",
                "    location_address VARCHAR(100),\n",
                "    location_city VARCHAR(20),\n",
                "    location_state VARCHAR(2),\n",
                "    location_zip VARCHAR(5),\n",
                "    location_county VARCHAR(3),\n",
                "    inside_outside_city_limits VARCHAR(1),\n",
                "    tabc_permit_number VARCHAR(10),\n",
                "    responsibility_begin_date TIMESTAMP,\n",
                "    responsibility_end_date TIMESTAMP,\n",
                "    obligation_end_date TIMESTAMP,\n",
                "    liquor_receipts INTEGER,\n",
                "    wine_receipts INTEGER,\n",
                "    beer_receipts INTEGER,\n",
                "    cover_charge_receipts INTEGER,\n",
                "    total_receipts INTEGER\n",
                ")  \"\"\"\n",
                "conn = psycopg2.connect(DB_CONNECT)\n",
                "cursor = conn.cursor()\n",
                "cursor.execute(create_table)\n",
                "conn.commit()\n",
                "cursor.close()"
            ],
            "outputs": [],
            "metadata": {}
        },
        {
            "cell_type": "code",
            "execution_count": 11,
            "source": [
                "table_cols = ('taxpayer_number',\n",
                " 'taxpayer_name',\n",
                " 'taxpayer_address',\n",
                " 'taxpayer_city',\n",
                " 'taxpayer_state',\n",
                " 'taxpayer_zip',\n",
                " 'taxpayer_county',\n",
                " 'location_number',\n",
                " 'location_name',\n",
                " 'location_address',\n",
                " 'location_city',\n",
                " 'location_state',\n",
                " 'location_zip',\n",
                " 'location_county',\n",
                " 'inside_outside_city_limits',\n",
                " 'tabc_permit_number',\n",
                " 'responsibility_begin_date',\n",
                " 'responsibility_end_date',\n",
                " 'obligation_end_date',\n",
                " 'liquor_receipts',\n",
                " 'wine_receipts',\n",
                " 'beer_receipts',\n",
                " 'cover_charge_receipts',\n",
                " 'total_receipts')"
            ],
            "outputs": [],
            "metadata": {}
        },
        {
            "cell_type": "code",
            "execution_count": 12,
            "source": [
                "conn = psycopg2.connect(DB_CONNECT)\n",
                "mgr = CopyManager(conn, 'bev_receipt', table_cols)\n",
                "mgr.copy([tuple(record.dict().values()) for record in records])\n",
                "conn.commit()"
            ],
            "outputs": [],
            "metadata": {}
        },
        {
            "cell_type": "code",
            "execution_count": 55,
            "source": [
                "tuple(x.dict().values())"
            ],
            "outputs": [
                {
                    "output_type": "execute_result",
                    "data": {
                        "text/plain": [
                            "('17509743203',\n",
                            " 'FIREBIRD DOWNTOWN, INC.',\n",
                            " '1845 WOODALL RODGERS FWY STE 1100',\n",
                            " 'DALLAS',\n",
                            " 'TX',\n",
                            " '75201',\n",
                            " '57',\n",
                            " '1',\n",
                            " 'EL FENIX RESTAURANT',\n",
                            " '1601 MCKINNEY AVE',\n",
                            " 'DALLAS',\n",
                            " 'TX',\n",
                            " '75202',\n",
                            " '57',\n",
                            " 'Y',\n",
                            " 'MB061420',\n",
                            " datetime.datetime(1993, 12, 1, 0, 0),\n",
                            " None,\n",
                            " datetime.datetime(2007, 1, 31, 0, 0),\n",
                            " 31065,\n",
                            " 1261,\n",
                            " 11020,\n",
                            " 0,\n",
                            " 43346)"
                        ]
                    },
                    "metadata": {},
                    "execution_count": 55
                }
            ],
            "metadata": {}
        },
        {
            "cell_type": "code",
            "execution_count": 26,
            "source": [
                "Receipt."
            ],
            "outputs": [
                {
                    "output_type": "execute_result",
                    "data": {
                        "text/plain": [
                            "<cyfunction BaseModel.dict at 0x7fa62e154380>"
                        ]
                    },
                    "metadata": {},
                    "execution_count": 26
                }
            ],
            "metadata": {}
        },
        {
            "cell_type": "code",
            "execution_count": null,
            "metadata": {},
            "outputs": [],
            "source": []
        }
    ],
    "metadata": {
        "orig_nbformat": 4,
        "language_info": {
            "name": "python",
            "version": "3.8.1",
            "mimetype": "text/x-python",
            "codemirror_mode": {
                "name": "ipython",
                "version": 3
            },
            "pygments_lexer": "ipython3",
            "nbconvert_exporter": "python",
            "file_extension": ".py"
        },
        "kernelspec": {
            "name": "python3",
            "display_name": "Python 3.8.1 64-bit ('.venv': venv)"
        },
        "interpreter": {
            "hash": "642157f1a82b7b2b57574d05f290145cc4a123ae0f38537b22c59ba6fa3a5b6c"
        }
    },
    "nbformat": 4,
    "nbformat_minor": 2
}