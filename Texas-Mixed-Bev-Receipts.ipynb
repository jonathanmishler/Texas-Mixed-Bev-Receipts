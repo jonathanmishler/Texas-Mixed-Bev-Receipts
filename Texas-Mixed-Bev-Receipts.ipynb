{
    "cells": [
        {
            "cell_type": "code",
            "execution_count": 6,
            "source": [
                "import sys\n",
                "import json\n",
                "import urllib3\n",
                "import psycopg2\n",
                "from pgcopy import CopyManager\n",
                "from datetime import datetime, date\n",
                "from pydantic import BaseModel, Field\n",
                "from config import Settings"
            ],
            "outputs": [],
            "metadata": {}
        },
        {
            "cell_type": "code",
            "execution_count": 2,
            "source": [
                "settings = Settings()\n",
                "\n",
                "DB_CONNECT = f'postgres://{settings.db_user}:{settings.db_password}@{settings.db_host}:5432/{settings.db_name}'\n",
                "\n",
                "\n",
                "http = urllib3.PoolManager()\n",
                "\n",
                "headers = {\n",
                "    \"Accept\": \"application/json\",\n",
                "    \"X-App-Token\": settings.tx_app_token\n",
                "}\n",
                "\n",
                "params = {\n",
                "    \"$order\": \"obligation_end_date_yyyymmdd,tabc_permit_number\",\n",
                "    \"$limit\": 50000,\n",
                "    \"$offset\": 0\n",
                "}\n",
                "\n",
                "url = \"https://data.texas.gov/resource/naix-2893.json\"\n",
                "county_url = \"https://data.texas.gov/api/geospatial/48ag-x9aa?method=export&format=GeoJSON\""
            ],
            "outputs": [],
            "metadata": {}
        },
        {
            "cell_type": "code",
            "execution_count": 3,
            "source": [
                "r = http.request(\n",
                "    \"GET\",\n",
                "    url,\n",
                "    headers = headers,\n",
                "    fields = params\n",
                ")"
            ],
            "outputs": [],
            "metadata": {}
        },
        {
            "cell_type": "code",
            "execution_count": 4,
            "source": [
                "sys.getsizeof(r.data)/1000000"
            ],
            "outputs": [
                {
                    "output_type": "execute_result",
                    "data": {
                        "text/plain": [
                            "38.509384"
                        ]
                    },
                    "metadata": {},
                    "execution_count": 4
                }
            ],
            "metadata": {}
        },
        {
            "cell_type": "code",
            "execution_count": 14,
            "source": [
                "class Receipt(BaseModel):\n",
                "    taxpayer_number: str = Field(None, max_length = 15)\n",
                "    taxpayer_name: str = None\n",
                "    taxpayer_address: str = None\n",
                "    taxpayer_city: str = None\n",
                "    taxpayer_state: str = None\n",
                "    taxpayer_zip: str = None\n",
                "    taxpayer_county: str = None\n",
                "    location_number: str = None\n",
                "    location_name: str = None\n",
                "    location_address: str = None\n",
                "    location_city: str = None\n",
                "    location_state: str = None\n",
                "    location_zip: str = None\n",
                "    location_county: str = None\n",
                "    inside_city_limits: bool = Field(None, alias = 'inside_outside_city_limits_code_y_n')\n",
                "    tabc_permit_number: str = None\n",
                "    responsibility_begin: datetime = Field(None, alias = 'responsibility_begin_date_yyyymmdd')\n",
                "    responsibility_end: datetime = Field(None, alias = 'responsibility_end_date_yyyymmdd')\n",
                "    obligation_end: datetime = Field(None, alias = 'obligation_end_date_yyyymmdd')\n",
                "    liquor_receipts: int = None\n",
                "    wine_receipts: int = None\n",
                "    beer_receipts: int = None\n",
                "    cover_charge_receipts: int = None\n",
                "    total_receipts: int = None\n",
                "\n",
                "    class Config:\n",
                "        schema_extra = {\n",
                "            \"db_table_name\": \"bev_receipt\"\n",
                "        } "
            ],
            "outputs": [],
            "metadata": {}
        },
        {
            "cell_type": "code",
            "execution_count": 20,
            "source": [
                "Receipt.schema(by_alias=False)"
            ],
            "outputs": [
                {
                    "output_type": "execute_result",
                    "data": {
                        "text/plain": [
                            "{'title': 'Receipt',\n",
                            " 'type': 'object',\n",
                            " 'properties': {'taxpayer_number': {'title': 'Taxpayer Number',\n",
                            "   'maxLength': 15,\n",
                            "   'type': 'string'},\n",
                            "  'taxpayer_name': {'title': 'Taxpayer Name', 'type': 'string'},\n",
                            "  'taxpayer_address': {'title': 'Taxpayer Address', 'type': 'string'},\n",
                            "  'taxpayer_city': {'title': 'Taxpayer City', 'type': 'string'},\n",
                            "  'taxpayer_state': {'title': 'Taxpayer State', 'type': 'string'},\n",
                            "  'taxpayer_zip': {'title': 'Taxpayer Zip', 'type': 'string'},\n",
                            "  'taxpayer_county': {'title': 'Taxpayer County', 'type': 'string'},\n",
                            "  'location_number': {'title': 'Location Number', 'type': 'string'},\n",
                            "  'location_name': {'title': 'Location Name', 'type': 'string'},\n",
                            "  'location_address': {'title': 'Location Address', 'type': 'string'},\n",
                            "  'location_city': {'title': 'Location City', 'type': 'string'},\n",
                            "  'location_state': {'title': 'Location State', 'type': 'string'},\n",
                            "  'location_zip': {'title': 'Location Zip', 'type': 'string'},\n",
                            "  'location_county': {'title': 'Location County', 'type': 'string'},\n",
                            "  'inside_outside_city_limits': {'title': 'Inside Outside City Limits Code Y N',\n",
                            "   'type': 'boolean'},\n",
                            "  'tabc_permit_number': {'title': 'Tabc Permit Number', 'type': 'string'},\n",
                            "  'responsibility_begin_date_yyyymmdd': {'title': 'Responsibility Begin Date Yyyymmdd',\n",
                            "   'type': 'string',\n",
                            "   'format': 'date-time'},\n",
                            "  'responsibility_end_date_yyyymmdd': {'title': 'Responsibility End Date Yyyymmdd',\n",
                            "   'type': 'string',\n",
                            "   'format': 'date-time'},\n",
                            "  'obligation_end_date_yyyymmdd': {'title': 'Obligation End Date Yyyymmdd',\n",
                            "   'type': 'string',\n",
                            "   'format': 'date-time'},\n",
                            "  'liquor_receipts': {'title': 'Liquor Receipts', 'type': 'integer'},\n",
                            "  'wine_receipts': {'title': 'Wine Receipts', 'type': 'integer'},\n",
                            "  'beer_receipts': {'title': 'Beer Receipts', 'type': 'integer'},\n",
                            "  'cover_charge_receipts': {'title': 'Cover Charge Receipts',\n",
                            "   'type': 'integer'},\n",
                            "  'total_receipts': {'title': 'Total Receipts', 'type': 'integer'}},\n",
                            " 'db_table_name': 'bev_receipt'}"
                        ]
                    },
                    "metadata": {},
                    "execution_count": 20
                }
            ],
            "metadata": {}
        },
        {
            "cell_type": "code",
            "execution_count": 9,
            "source": [
                "records = [Receipt(**x) for x in json.loads(r.data.decode('utf-8'))]"
            ],
            "outputs": [],
            "metadata": {}
        },
        {
            "cell_type": "code",
            "execution_count": 71,
            "source": [
                "sys.getsizeof(records)/1000000"
            ],
            "outputs": [
                {
                    "output_type": "execute_result",
                    "data": {
                        "text/plain": [
                            "4.290008"
                        ]
                    },
                    "metadata": {},
                    "execution_count": 71
                }
            ],
            "metadata": {}
        },
        {
            "cell_type": "code",
            "execution_count": 10,
            "source": [
                "create_table = \"\"\" CREATE TABLE IF NOT EXISTS bev_receipt(\n",
                "    bev_receipt_id SERIAL PRIMARY KEY,\n",
                "    taxpayer_number VARCHAR(15),\n",
                "    taxpayer_name VARCHAR(100),\n",
                "    taxpayer_address VARCHAR(100),\n",
                "    taxpayer_city VARCHAR(20),\n",
                "    taxpayer_state VARCHAR(2),\n",
                "    taxpayer_zip VARCHAR(5),\n",
                "    taxpayer_county VARCHAR(3),\n",
                "    location_number VARCHAR(15),\n",
                "    location_name VARCHAR(100),\n",
                "    location_address VARCHAR(100),\n",
                "    location_city VARCHAR(20),\n",
                "    location_state VARCHAR(2),\n",
                "    location_zip VARCHAR(5),\n",
                "    location_county VARCHAR(3),\n",
                "    inside_outside_city_limits VARCHAR(1),\n",
                "    tabc_permit_number VARCHAR(10),\n",
                "    responsibility_begin_date TIMESTAMP,\n",
                "    responsibility_end_date TIMESTAMP,\n",
                "    obligation_end_date TIMESTAMP,\n",
                "    liquor_receipts INTEGER,\n",
                "    wine_receipts INTEGER,\n",
                "    beer_receipts INTEGER,\n",
                "    cover_charge_receipts INTEGER,\n",
                "    total_receipts INTEGER\n",
                ")  \"\"\"\n",
                "conn = psycopg2.connect(DB_CONNECT)\n",
                "cursor = conn.cursor()\n",
                "cursor.execute(create_table)\n",
                "conn.commit()\n",
                "cursor.close()"
            ],
            "outputs": [],
            "metadata": {}
        },
        {
            "cell_type": "code",
            "execution_count": 11,
            "source": [
                "table_cols = ('taxpayer_number',\n",
                " 'taxpayer_name',\n",
                " 'taxpayer_address',\n",
                " 'taxpayer_city',\n",
                " 'taxpayer_state',\n",
                " 'taxpayer_zip',\n",
                " 'taxpayer_county',\n",
                " 'location_number',\n",
                " 'location_name',\n",
                " 'location_address',\n",
                " 'location_city',\n",
                " 'location_state',\n",
                " 'location_zip',\n",
                " 'location_county',\n",
                " 'inside_outside_city_limits',\n",
                " 'tabc_permit_number',\n",
                " 'responsibility_begin_date',\n",
                " 'responsibility_end_date',\n",
                " 'obligation_end_date',\n",
                " 'liquor_receipts',\n",
                " 'wine_receipts',\n",
                " 'beer_receipts',\n",
                " 'cover_charge_receipts',\n",
                " 'total_receipts')"
            ],
            "outputs": [],
            "metadata": {}
        },
        {
            "cell_type": "code",
            "execution_count": 12,
            "source": [
                "conn = psycopg2.connect(DB_CONNECT)\n",
                "mgr = CopyManager(conn, 'bev_receipt', table_cols)\n",
                "mgr.copy([tuple(record.dict().values()) for record in records])\n",
                "conn.commit()"
            ],
            "outputs": [],
            "metadata": {}
        },
        {
            "cell_type": "code",
            "execution_count": 55,
            "source": [
                "tuple(x.dict().values())"
            ],
            "outputs": [
                {
                    "output_type": "execute_result",
                    "data": {
                        "text/plain": [
                            "('17509743203',\n",
                            " 'FIREBIRD DOWNTOWN, INC.',\n",
                            " '1845 WOODALL RODGERS FWY STE 1100',\n",
                            " 'DALLAS',\n",
                            " 'TX',\n",
                            " '75201',\n",
                            " '57',\n",
                            " '1',\n",
                            " 'EL FENIX RESTAURANT',\n",
                            " '1601 MCKINNEY AVE',\n",
                            " 'DALLAS',\n",
                            " 'TX',\n",
                            " '75202',\n",
                            " '57',\n",
                            " 'Y',\n",
                            " 'MB061420',\n",
                            " datetime.datetime(1993, 12, 1, 0, 0),\n",
                            " None,\n",
                            " datetime.datetime(2007, 1, 31, 0, 0),\n",
                            " 31065,\n",
                            " 1261,\n",
                            " 11020,\n",
                            " 0,\n",
                            " 43346)"
                        ]
                    },
                    "metadata": {},
                    "execution_count": 55
                }
            ],
            "metadata": {}
        },
        {
            "cell_type": "code",
            "execution_count": null,
            "source": [],
            "outputs": [],
            "metadata": {}
        }
    ],
    "metadata": {
        "orig_nbformat": 4,
        "language_info": {
            "name": "python",
            "version": "3.8.10",
            "mimetype": "text/x-python",
            "codemirror_mode": {
                "name": "ipython",
                "version": 3
            },
            "pygments_lexer": "ipython3",
            "nbconvert_exporter": "python",
            "file_extension": ".py"
        },
        "kernelspec": {
            "name": "python3",
            "display_name": "Python 3.8.5 64-bit ('.venv': venv)"
        },
        "interpreter": {
            "hash": "dcd12adb2241a514ef48beca210e55180f27480c0bccc5cfcf5d63fbabfedc75"
        }
    },
    "nbformat": 4,
    "nbformat_minor": 2
}